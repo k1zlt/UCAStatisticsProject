{
 "cells": [
  {
   "cell_type": "code",
   "execution_count": 1,
   "id": "28c63a61-46ee-4391-8239-f8b439831085",
   "metadata": {},
   "outputs": [],
   "source": [
    "import pandas as pd\n",
    "import os\n",
    "import sqlite3"
   ]
  },
  {
   "cell_type": "code",
   "execution_count": 15,
   "id": "703b4b6a-ef7a-4764-bfa9-d3f04f40b74d",
   "metadata": {},
   "outputs": [],
   "source": [
    "dataset_folder = \"Agriculture/\"\n",
    "db_data = \"data.db\"\n",
    "conn = sqlite3.connect(db_data)"
   ]
  },
  {
   "cell_type": "code",
   "execution_count": 21,
   "id": "639c71fe-0cc4-427a-8ace-578192aa071c",
   "metadata": {},
   "outputs": [],
   "source": [
    "fetch_df = lambda table_name: pd.read_sql_query(f'SELECT * FROM {table_name}', conn)"
   ]
  },
  {
   "cell_type": "code",
   "execution_count": 37,
   "id": "42c9a517-79cb-46ab-84c0-c49634eb5690",
   "metadata": {
    "scrolled": true
   },
   "outputs": [
    {
     "name": "stdout",
     "output_type": "stream",
     "text": [
      "Dataset #1 agr0.dta with the length of 2529 is loaded into database. It was stored in a table named agr0.\n",
      "Note: hhid in agr0 is not unique.\n",
      "Dataset #2 agr1.dta with the length of 2529 is loaded into database. It was stored in a table named agr1.\n",
      "Note: hhid in agr1 is not unique.\n",
      "Dataset #3 agr10_1.dta with the length of 1044 is loaded into database. It was stored in a table named agr10_1.\n",
      "Dataset #4 agr10_1a.dta with the length of 1813 is loaded into database. It was stored in a table named agr10_1a.\n",
      "Note: hhid in agr10_1a is not unique.\n",
      "Dataset #5 agr10_3.dta with the length of 23569 is loaded into database. It was stored in a table named agr10_3.\n",
      "Dataset #6 agr11.dta with the length of 1885 is loaded into database. It was stored in a table named agr11.\n",
      "Note: hhid in agr11 is not unique.\n",
      "Dataset #7 agr2_234.dta with the length of 3006 is loaded into database. It was stored in a table named agr2_234.\n",
      "Dataset #8 agr2_5.dta with the length of 3855 is loaded into database. It was stored in a table named agr2_5.\n",
      "Dataset #9 agr2_6.dta with the length of 896 is loaded into database. It was stored in a table named agr2_6.\n",
      "Dataset #10 agr3.dta with the length of 2529 is loaded into database. It was stored in a table named agr3.\n",
      "Note: hhid in agr3 is not unique.\n",
      "Dataset #11 agr7_1a.dta with the length of 4007 is loaded into database. It was stored in a table named agr7_1a.\n",
      "Dataset #12 agr7_1b.dta with the length of 2297 is loaded into database. It was stored in a table named agr7_1b.\n",
      "Dataset #13 agr7_24.dta with the length of 1148 is loaded into database. It was stored in a table named agr7_24.\n",
      "Note: hhid in agr7_24 is not unique.\n",
      "Dataset #14 agr7_2_4b.dta with the length of 1148 is loaded into database. It was stored in a table named agr7_2_4b.\n",
      "Note: hhid in agr7_2_4b is not unique.\n",
      "Dataset #15 agr7_3.dta with the length of 2999 is loaded into database. It was stored in a table named agr7_3.\n",
      "Dataset #16 agr7_4.dta with the length of 2379 is loaded into database. It was stored in a table named agr7_4.\n"
     ]
    }
   ],
   "source": [
    "dataset_table_names = []\n",
    "i = 0\n",
    "for dataset_file_name in sorted(os.listdir(dataset_folder)):\n",
    "    table_name = dataset_file_name.split('.')[0]\n",
    "    df = pd.read_stata(os.path.join(dataset_folder, dataset_file_name)).rename(columns = {\"hhid16\": \"hhid\"})\n",
    "    i+=1\n",
    "    print(\"Dataset #\" + str(i), dataset_file_name,\"with the length of\", len(df), \"is loaded into database. It was stored in a table named\", table_name + \".\")\n",
    "    if df['hhid'].nunique() == len(df): print(\"Note: hhid in\", table_name, 'is not unique.')\n",
    "    df.to_sql(table_name, conn, if_exists='replace', index=False)\n",
    "    dataset_table_names.append(table_name);"
   ]
  },
  {
   "cell_type": "code",
   "execution_count": null,
   "id": "df9822c4-b4c6-45a2-a038-22d63f6ab530",
   "metadata": {},
   "outputs": [],
   "source": []
  }
 ],
 "metadata": {
  "kernelspec": {
   "display_name": "Python 3 (ipykernel)",
   "language": "python",
   "name": "python3"
  },
  "language_info": {
   "codemirror_mode": {
    "name": "ipython",
    "version": 3
   },
   "file_extension": ".py",
   "mimetype": "text/x-python",
   "name": "python",
   "nbconvert_exporter": "python",
   "pygments_lexer": "ipython3",
   "version": "3.12.6"
  }
 },
 "nbformat": 4,
 "nbformat_minor": 5
}
